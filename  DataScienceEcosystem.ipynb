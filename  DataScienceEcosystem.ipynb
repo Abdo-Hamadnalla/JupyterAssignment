{
 "cells": [
  {
   "cell_type": "markdown",
   "id": "7d04b660-d6a7-4f49-8311-975ae5e0b457",
   "metadata": {},
   "source": [
    "# Data Science Tools and Ecosystem"
   ]
  },
  {
   "cell_type": "markdown",
   "id": "65380d75-7a36-4289-a08c-ab328b0d8eff",
   "metadata": {},
   "source": [
    "## In this notebook, Data Science Tools and Ecosystem are summarized."
   ]
  },
  {
   "cell_type": "markdown",
   "id": "5ecab0ea-7926-4899-b70e-d30c0ebdbdf2",
   "metadata": {},
   "source": [
    "## Objectives\n",
    "- List of popular languages used in Data Science\n",
    "- Commonly used libraries by Data Scientists\n",
    "- Open Source Data Science tools\n",
    "- Basic arithmetic expressions in Python"
   ]
  },
  {
   "cell_type": "markdown",
   "id": "6f82e7eb-edae-4c43-b369-6b23b3ac3864",
   "metadata": {},
   "source": [
    " Some of the popular languages that Data Scientists use are:\n",
    "1. python\n",
    "2. R\n",
    "3. Julia\n",
    "4. Java"
   ]
  },
  {
   "cell_type": "markdown",
   "id": "5ff66bab-68ba-4c31-9e3f-72d129268278",
   "metadata": {},
   "source": [
    "Some of the commonly used libraries used by Data Scientists include:\n",
    "1. pandas\n",
    "2. Numpy\n",
    "3. Matplotlib\n",
    "4. PyTorch\n"
   ]
  },
  {
   "cell_type": "markdown",
   "id": "c271cdb6-81d3-4974-b367-300a6d1edda9",
   "metadata": {},
   "source": [
    "| Data Science Tools |\n",
    "---\n",
    "|Hadoop |\n",
    "|Spark |\n",
    "|TensorFlow |"
   ]
  },
  {
   "cell_type": "markdown",
   "id": "a2dd969a-248a-4e34-a249-8f303dd620f0",
   "metadata": {},
   "source": [
    "### Below are a few examples of evaluating arithmetic expressions in Python"
   ]
  },
  {
   "cell_type": "code",
   "execution_count": 8,
   "id": "2d18ef4b-49f7-492e-9210-45976ab34a78",
   "metadata": {},
   "outputs": [
    {
     "data": {
      "text/plain": [
       "17"
      ]
     },
     "execution_count": 8,
     "metadata": {},
     "output_type": "execute_result"
    }
   ],
   "source": [
    "#This a simple arithmetic expression to mutiply then add integers\n",
    "(3*4)+5"
   ]
  },
  {
   "cell_type": "code",
   "execution_count": 9,
   "id": "a37a961f-35d7-4e56-83a2-f893ce893f05",
   "metadata": {},
   "outputs": [
    {
     "data": {
      "text/plain": [
       "3.3333333333333335"
      ]
     },
     "execution_count": 9,
     "metadata": {},
     "output_type": "execute_result"
    }
   ],
   "source": [
    " #This will convert 200 minutes to hours by diving by 60\n",
    "hours = 200/60\n",
    "hours"
   ]
  },
  {
   "cell_type": "markdown",
   "id": "4555683d-31b9-4c16-8450-8db3fcd24063",
   "metadata": {},
   "source": [
    "## Author\n",
    "Abdelrhman Hamadnallah Mohamed Ali Abubakar"
   ]
  },
  {
   "cell_type": "code",
   "execution_count": null,
   "id": "ae44adf8-5fae-48cc-836a-4fb57747e1b5",
   "metadata": {},
   "outputs": [],
   "source": []
  }
 ],
 "metadata": {
  "kernelspec": {
   "display_name": "Python 3 (ipykernel)",
   "language": "python",
   "name": "python3"
  },
  "language_info": {
   "codemirror_mode": {
    "name": "ipython",
    "version": 3
   },
   "file_extension": ".py",
   "mimetype": "text/x-python",
   "name": "python",
   "nbconvert_exporter": "python",
   "pygments_lexer": "ipython3",
   "version": "3.11.7"
  }
 },
 "nbformat": 4,
 "nbformat_minor": 5
}
